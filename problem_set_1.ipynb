{
 "cells": [
  {
   "cell_type": "code",
   "execution_count": null,
   "metadata": {},
   "outputs": [
    {
     "ename": "",
     "evalue": "",
     "output_type": "error",
     "traceback": [
      "\u001b[1;31mRunning cells with 'c:\\Users\\AhmadFouly\\AppData\\Local\\Microsoft\\WindowsApps\\python3.11.exe' requires the ipykernel package.\n",
      "\u001b[1;31mRun the following command to install 'ipykernel' into the Python environment. \n",
      "\u001b[1;31mCommand: 'c:/Users/AhmadFouly/AppData/Local/Microsoft/WindowsApps/python3.11.exe -m pip install ipykernel -U --user --force-reinstall'"
     ]
    }
   ],
   "source": [
    "# Import packages\n",
    "\n",
    "import pandas as pd\n",
    "import numpy as np\n",
    "import altair as alt\n",
    "alt.data_transformers.disable_max_rows()"
   ]
  },
  {
   "cell_type": "code",
   "execution_count": null,
   "metadata": {},
   "outputs": [
    {
     "ename": "",
     "evalue": "",
     "output_type": "error",
     "traceback": [
      "\u001b[1;31mRunning cells with 'c:\\Users\\AhmadFouly\\AppData\\Local\\Microsoft\\WindowsApps\\python3.11.exe' requires the ipykernel package.\n",
      "\u001b[1;31mRun the following command to install 'ipykernel' into the Python environment. \n",
      "\u001b[1;31mCommand: 'c:/Users/AhmadFouly/AppData/Local/Microsoft/WindowsApps/python3.11.exe -m pip install ipykernel -U --user --force-reinstall'"
     ]
    }
   ],
   "source": [
    "# Load traffic stops data and create a dataframe called stops\n",
    "# and check the columns and their types\n",
    "stops = pd.read_csv('Officer_Traffic_Stops.csv')\n",
    "stops.head()"
   ]
  },
  {
   "cell_type": "code",
   "execution_count": null,
   "metadata": {},
   "outputs": [
    {
     "ename": "",
     "evalue": "",
     "output_type": "error",
     "traceback": [
      "\u001b[1;31mRunning cells with 'c:\\Users\\AhmadFouly\\AppData\\Local\\Microsoft\\WindowsApps\\python3.11.exe' requires the ipykernel package.\n",
      "\u001b[1;31mRun the following command to install 'ipykernel' into the Python environment. \n",
      "\u001b[1;31mCommand: 'c:/Users/AhmadFouly/AppData/Local/Microsoft/WindowsApps/python3.11.exe -m pip install ipykernel -U --user --force-reinstall'"
     ]
    }
   ],
   "source": [
    "# view the data by just typing the dataframe name\n",
    "stops"
   ]
  },
  {
   "cell_type": "code",
   "execution_count": null,
   "metadata": {},
   "outputs": [
    {
     "ename": "",
     "evalue": "",
     "output_type": "error",
     "traceback": [
      "\u001b[1;31mRunning cells with 'c:\\Users\\AhmadFouly\\AppData\\Local\\Microsoft\\WindowsApps\\python3.11.exe' requires the ipykernel package.\n",
      "\u001b[1;31mRun the following command to install 'ipykernel' into the Python environment. \n",
      "\u001b[1;31mCommand: 'c:/Users/AhmadFouly/AppData/Local/Microsoft/WindowsApps/python3.11.exe -m pip install ipykernel -U --user --force-reinstall'"
     ]
    }
   ],
   "source": [
    "# check the data using df.info()\n",
    "stops.info()"
   ]
  },
  {
   "cell_type": "markdown",
   "metadata": {},
   "source": [
    "You will notice object and int64 this may not be what we would like so lets remember that\n",
    "\n",
    "Let's consider our target variable: `Was_a_Search_Conducted`.\n",
    "\n",
    "**Plot** a bar chart that counts the number of records by `Was_a_Search_Conducted`."
   ]
  },
  {
   "cell_type": "code",
   "execution_count": null,
   "metadata": {},
   "outputs": [
    {
     "ename": "",
     "evalue": "",
     "output_type": "error",
     "traceback": [
      "\u001b[1;31mRunning cells with 'c:\\Users\\AhmadFouly\\AppData\\Local\\Microsoft\\WindowsApps\\python3.11.exe' requires the ipykernel package.\n",
      "\u001b[1;31mRun the following command to install 'ipykernel' into the Python environment. \n",
      "\u001b[1;31mCommand: 'c:/Users/AhmadFouly/AppData/Local/Microsoft/WindowsApps/python3.11.exe -m pip install ipykernel -U --user --force-reinstall'"
     ]
    }
   ],
   "source": [
    "## Bar chart\n",
    "bar = alt.Chart(stops).mark_bar(size=30).encode(\n",
    "    x=alt.X('Was_a_Search_Conducted', axis=alt.Axis(title='Was a Search Conducted')),\n",
    "    y=alt.Y('count()', axis=alt.Axis(title='Count')),\n",
    "    color=alt.Color('Was_a_Search_Conducted', scale=alt.Scale(domain=['Yes', 'No'], range=['steelblue', 'lightgray'])),\n",
    "    )\n",
    "\n",
    "bar"
   ]
  },
  {
   "cell_type": "markdown",
   "metadata": {},
   "source": [
    "Next, let's consider the age range of the driver. \n",
    "\n",
    "**Plot** a histogram of `Driver_Age`. Determine an appropriate number of bins."
   ]
  },
  {
   "cell_type": "code",
   "execution_count": null,
   "metadata": {},
   "outputs": [
    {
     "ename": "",
     "evalue": "",
     "output_type": "error",
     "traceback": [
      "\u001b[1;31mRunning cells with 'c:\\Users\\AhmadFouly\\AppData\\Local\\Microsoft\\WindowsApps\\python3.11.exe' requires the ipykernel package.\n",
      "\u001b[1;31mRun the following command to install 'ipykernel' into the Python environment. \n",
      "\u001b[1;31mCommand: 'c:/Users/AhmadFouly/AppData/Local/Microsoft/WindowsApps/python3.11.exe -m pip install ipykernel -U --user --force-reinstall'"
     ]
    }
   ],
   "source": [
    "## Histogram\n",
    "histogram = alt.Chart(stops).mark_bar(tooltip=True).encode(\n",
    "    alt.X(\"Driver_Age:Q\", bin=alt.Bin(maxbins= 50)),\n",
    "    y='count()',\n",
    ")\n",
    "\n",
    "histogram"
   ]
  },
  {
   "cell_type": "markdown",
   "metadata": {},
   "source": [
    "Once you go above (around) 40-50 bins, you'll notice some points stick out. \n",
    "\n",
    "What is happening?\n",
    "\n",
    "The data gathered into each bin consists of more than one year."
   ]
  },
  {
   "cell_type": "markdown",
   "metadata": {},
   "source": [
    "**Plot** a box plot with `Was_a_Search_Conducted` on the x-axis and `Driver_Age` on the y-axis."
   ]
  },
  {
   "cell_type": "code",
   "execution_count": null,
   "metadata": {},
   "outputs": [
    {
     "ename": "",
     "evalue": "",
     "output_type": "error",
     "traceback": [
      "\u001b[1;31mRunning cells with 'c:\\Users\\AhmadFouly\\AppData\\Local\\Microsoft\\WindowsApps\\python3.11.exe' requires the ipykernel package.\n",
      "\u001b[1;31mRun the following command to install 'ipykernel' into the Python environment. \n",
      "\u001b[1;31mCommand: 'c:/Users/AhmadFouly/AppData/Local/Microsoft/WindowsApps/python3.11.exe -m pip install ipykernel -U --user --force-reinstall'"
     ]
    }
   ],
   "source": [
    "## Box plot\n",
    "\n",
    "box_plot = alt.Chart(stops).mark_boxplot().encode(\n",
    "    x='Was_a_Search_Conducted',\n",
    "    y='Driver_Age',\n",
    "    color=alt.Color('Was_a_Search_Conducted', scale=alt.Scale(domain=['Yes', 'No'], range=['steelblue', 'lightgray'])),\n",
    "\n",
    ")\n",
    "\n",
    "box_plot"
   ]
  },
  {
   "cell_type": "markdown",
   "metadata": {},
   "source": [
    "**Plot** a violin plot where the fill is the response variable \"Was_a_search_conducted\" https://altair-viz.github.io/gallery/violin_plot.html"
   ]
  },
  {
   "cell_type": "code",
   "execution_count": null,
   "metadata": {},
   "outputs": [
    {
     "ename": "",
     "evalue": "",
     "output_type": "error",
     "traceback": [
      "\u001b[1;31mRunning cells with 'c:\\Users\\AhmadFouly\\AppData\\Local\\Microsoft\\WindowsApps\\python3.11.exe' requires the ipykernel package.\n",
      "\u001b[1;31mRun the following command to install 'ipykernel' into the Python environment. \n",
      "\u001b[1;31mCommand: 'c:/Users/AhmadFouly/AppData/Local/Microsoft/WindowsApps/python3.11.exe -m pip install ipykernel -U --user --force-reinstall'"
     ]
    }
   ],
   "source": [
    "# Violin plot\n",
    "\n",
    "\n",
    "\n",
    "violin = alt.Chart(stops).transform_density(\n",
    "    'Driver_Age',  \n",
    "    as_=['Driver_Age', 'density'],\n",
    "    groupby=['Was_a_search_conducted']\n",
    ").mark_area(\n",
    "    orient='horizontal'\n",
    ").encode(\n",
    "    y=alt.Y('Driver_Age:Q'), \n",
    "    color='Was_a_search_conducted:N',\n",
    "    x=alt.X(\n",
    "        'density:Q',\n",
    "        stack='center'\n",
    "    )\n",
    ").properties(\n",
    "    width=300,\n",
    "    height=300\n",
    ")\n",
    "\n",
    "violin\n"
   ]
  },
  {
   "cell_type": "markdown",
   "metadata": {},
   "source": [
    "From the plots above, do you think the age of the driver is a significant factor in whether a search was conducted? Why or why not?\n",
    "\n",
    "No, it seems that driver age isn't a major factor because search frequency is fairly consistent across all age groups. "
   ]
  },
  {
   "cell_type": "markdown",
   "metadata": {},
   "source": [
    "## Date of stop\n",
    "\n",
    "Let's plot the number of stops by time. \n",
    "\n",
    "Recalling part one, the `Month_of_Stop` variable is a character, not a date variable. The datatime's are simply when the data was collected; not when the stop occurred. Therefore, we'll need to convert the `Month_of_Stop` variable from a character to a Date format.\n",
    "\n",
    "Uncomment out the next 4 code blocks these are given to you but please study and know what they do"
   ]
  },
  {
   "cell_type": "code",
   "execution_count": null,
   "metadata": {},
   "outputs": [
    {
     "ename": "",
     "evalue": "",
     "output_type": "error",
     "traceback": [
      "\u001b[1;31mRunning cells with 'c:\\Users\\AhmadFouly\\AppData\\Local\\Microsoft\\WindowsApps\\python3.11.exe' requires the ipykernel package.\n",
      "\u001b[1;31mRun the following command to install 'ipykernel' into the Python environment. \n",
      "\u001b[1;31mCommand: 'c:/Users/AhmadFouly/AppData/Local/Microsoft/WindowsApps/python3.11.exe -m pip install ipykernel -U --user --force-reinstall'"
     ]
    }
   ],
   "source": [
    "stops['Month_of_Stop'] = stops['Month_of_Stop'].astype('datetime64[ns]')"
   ]
  },
  {
   "cell_type": "code",
   "execution_count": null,
   "metadata": {},
   "outputs": [
    {
     "ename": "",
     "evalue": "",
     "output_type": "error",
     "traceback": [
      "\u001b[1;31mRunning cells with 'c:\\Users\\AhmadFouly\\AppData\\Local\\Microsoft\\WindowsApps\\python3.11.exe' requires the ipykernel package.\n",
      "\u001b[1;31mRun the following command to install 'ipykernel' into the Python environment. \n",
      "\u001b[1;31mCommand: 'c:/Users/AhmadFouly/AppData/Local/Microsoft/WindowsApps/python3.11.exe -m pip install ipykernel -U --user --force-reinstall'"
     ]
    }
   ],
   "source": [
    "stops['Month_of_Stop'] = pd.to_datetime(stops['Month_of_Stop'], format='%y%m%d')"
   ]
  },
  {
   "cell_type": "code",
   "execution_count": null,
   "metadata": {},
   "outputs": [
    {
     "ename": "",
     "evalue": "",
     "output_type": "error",
     "traceback": [
      "\u001b[1;31mRunning cells with 'c:\\Users\\AhmadFouly\\AppData\\Local\\Microsoft\\WindowsApps\\python3.11.exe' requires the ipykernel package.\n",
      "\u001b[1;31mRun the following command to install 'ipykernel' into the Python environment. \n",
      "\u001b[1;31mCommand: 'c:/Users/AhmadFouly/AppData/Local/Microsoft/WindowsApps/python3.11.exe -m pip install ipykernel -U --user --force-reinstall'"
     ]
    }
   ],
   "source": [
    "stops.info()"
   ]
  },
  {
   "cell_type": "code",
   "execution_count": null,
   "metadata": {},
   "outputs": [
    {
     "ename": "",
     "evalue": "",
     "output_type": "error",
     "traceback": [
      "\u001b[1;31mRunning cells with 'c:\\Users\\AhmadFouly\\AppData\\Local\\Microsoft\\WindowsApps\\python3.11.exe' requires the ipykernel package.\n",
      "\u001b[1;31mRun the following command to install 'ipykernel' into the Python environment. \n",
      "\u001b[1;31mCommand: 'c:/Users/AhmadFouly/AppData/Local/Microsoft/WindowsApps/python3.11.exe -m pip install ipykernel -U --user --force-reinstall'"
     ]
    }
   ],
   "source": [
    "stops"
   ]
  },
  {
   "cell_type": "markdown",
   "metadata": {},
   "source": [
    "**Plot** a line chart with the number of traffic stops for each month (hint: think about the aggregations we did in class.)."
   ]
  },
  {
   "cell_type": "code",
   "execution_count": null,
   "metadata": {},
   "outputs": [
    {
     "ename": "",
     "evalue": "",
     "output_type": "error",
     "traceback": [
      "\u001b[1;31mRunning cells with 'c:\\Users\\AhmadFouly\\AppData\\Local\\Microsoft\\WindowsApps\\python3.11.exe' requires the ipykernel package.\n",
      "\u001b[1;31mRun the following command to install 'ipykernel' into the Python environment. \n",
      "\u001b[1;31mCommand: 'c:/Users/AhmadFouly/AppData/Local/Microsoft/WindowsApps/python3.11.exe -m pip install ipykernel -U --user --force-reinstall'"
     ]
    }
   ],
   "source": [
    "## Create a dataframe named stops_count for this graph that has a column named Month_of_Stop \n",
    "## Also create a column named count representing the ammount of stops per month  https://sparkbyexamples.com/pandas/pandas-groupby-count-examples/\n",
    "stops_count = stops.groupby('Month_of_Stop').size().reset_index(name='count')\n",
    "stops_count\n"
   ]
  },
  {
   "cell_type": "code",
   "execution_count": null,
   "metadata": {},
   "outputs": [
    {
     "ename": "",
     "evalue": "",
     "output_type": "error",
     "traceback": [
      "\u001b[1;31mRunning cells with 'c:\\Users\\AhmadFouly\\AppData\\Local\\Microsoft\\WindowsApps\\python3.11.exe' requires the ipykernel package.\n",
      "\u001b[1;31mRun the following command to install 'ipykernel' into the Python environment. \n",
      "\u001b[1;31mCommand: 'c:/Users/AhmadFouly/AppData/Local/Microsoft/WindowsApps/python3.11.exe -m pip install ipykernel -U --user --force-reinstall'"
     ]
    }
   ],
   "source": [
    "## Line chart\n",
    "\n",
    "line = alt.Chart(stops_count).mark_line().encode(\n",
    "    x='Month_of_Stop',\n",
    "    y='count'\n",
    ")\n",
    "\n",
    "line\n"
   ]
  },
  {
   "cell_type": "markdown",
   "metadata": {},
   "source": [
    "What is the trend (i.e., long term rate of change) of the number of traffic stops in Charlotte? \n",
    "\n",
    "It seems that the number of monthly stops are consistent over time. We notice some decrease and increase but on average it seems that it's consistent and averaging around 2800."
   ]
  },
  {
   "cell_type": "markdown",
   "metadata": {},
   "source": [
    "**Plot** the same plot but add in `.facet()` by the `Reason_for_Stop` variable."
   ]
  },
  {
   "cell_type": "code",
   "execution_count": null,
   "metadata": {},
   "outputs": [
    {
     "ename": "",
     "evalue": "",
     "output_type": "error",
     "traceback": [
      "\u001b[1;31mRunning cells with 'c:\\Users\\AhmadFouly\\AppData\\Local\\Microsoft\\WindowsApps\\python3.11.exe' requires the ipykernel package.\n",
      "\u001b[1;31mRun the following command to install 'ipykernel' into the Python environment. \n",
      "\u001b[1;31mCommand: 'c:/Users/AhmadFouly/AppData/Local/Microsoft/WindowsApps/python3.11.exe -m pip install ipykernel -U --user --force-reinstall'"
     ]
    }
   ],
   "source": [
    "## create the dataframe that groups by month and reason for stop \n",
    "stops_reason = stops.groupby(['Month_of_Stop', 'Reason_for_Stop']).size().reset_index(name='count')\n",
    "stops_reason\n"
   ]
  },
  {
   "cell_type": "code",
   "execution_count": null,
   "metadata": {},
   "outputs": [
    {
     "ename": "",
     "evalue": "",
     "output_type": "error",
     "traceback": [
      "\u001b[1;31mRunning cells with 'c:\\Users\\AhmadFouly\\AppData\\Local\\Microsoft\\WindowsApps\\python3.11.exe' requires the ipykernel package.\n",
      "\u001b[1;31mRun the following command to install 'ipykernel' into the Python environment. \n",
      "\u001b[1;31mCommand: 'c:/Users/AhmadFouly/AppData/Local/Microsoft/WindowsApps/python3.11.exe -m pip install ipykernel -U --user --force-reinstall'"
     ]
    }
   ],
   "source": [
    "## Facet chart https://stackoverflow.com/questions/64770801/python-altair-facet-line-plot-with-multiple-variables\n",
    "\n",
    "lines = alt.Chart(stops_reason).mark_line().encode(\n",
    "    x='Month_of_Stop',\n",
    "    y='count',\n",
    "    color='Reason_for_Stop',\n",
    "    tooltip=['Month_of_Stop', 'count', 'Reason_for_Stop']\n",
    ").facet(\n",
    "    column='Reason_of_Stop:N'\n",
    ")\n",
    "\n",
    "lines"
   ]
  },
  {
   "cell_type": "markdown",
   "metadata": {},
   "source": [
    "What is a problem with this plot? \n",
    "\n",
    "The y-axis seems to be shared across different reasons for stops."
   ]
  },
  {
   "cell_type": "markdown",
   "metadata": {},
   "source": [
    "To address this problem, you will need to figure out how to adjust the scale. To do this, you need to use altairs documentation to see whether there is a function that could help you.\n",
    "\n",
    "https://altair-viz.github.io/user_guide/scale_resolve.html\n",
    "\n",
    "What parameter allows you to modify the scales of `facet_wrap`? \n",
    "\n",
    "'resolve_scale'"
   ]
  },
  {
   "cell_type": "markdown",
   "metadata": {},
   "source": [
    "**Plot** the same plot but with a free y-axis scale. (This may take some research but very findable)"
   ]
  },
  {
   "cell_type": "code",
   "execution_count": null,
   "metadata": {},
   "outputs": [
    {
     "ename": "",
     "evalue": "",
     "output_type": "error",
     "traceback": [
      "\u001b[1;31mRunning cells with 'c:\\Users\\AhmadFouly\\AppData\\Local\\Microsoft\\WindowsApps\\python3.11.exe' requires the ipykernel package.\n",
      "\u001b[1;31mRun the following command to install 'ipykernel' into the Python environment. \n",
      "\u001b[1;31mCommand: 'c:/Users/AhmadFouly/AppData/Local/Microsoft/WindowsApps/python3.11.exe -m pip install ipykernel -U --user --force-reinstall'"
     ]
    }
   ],
   "source": [
    "# Updated Facet Chart\n",
    "updated_lines = alt.Chart(stops_reason).mark_line().encode(\n",
    "    x='Month_of_Stop',\n",
    "    y='count',\n",
    "    color='Reason_for_Stop',\n",
    "    tooltip=['Month_of_Stop', 'count', 'Reason_for_Stop']\n",
    "\n",
    ").facet(\n",
    "        column='Reason_for_Stop:N'\n",
    "    ).resolve_scale(\n",
    "    y='independent'\n",
    ")\n",
    "\n",
    "updated_lines"
   ]
  },
  {
   "cell_type": "markdown",
   "metadata": {},
   "source": [
    "Which type of police stop has had the most volatility (i.e., big swings in number of stops)? \n",
    "\n",
    "Driving While Impaired"
   ]
  },
  {
   "cell_type": "markdown",
   "metadata": {},
   "source": [
    "What is one problem with allowing the y-axis be free? xxxxx"
   ]
  },
  {
   "cell_type": "markdown",
   "metadata": {},
   "source": [
    "Small multiples tends to be less effective when each of the variables are on different scales or magnitudes.\n",
    "\n",
    "Let's consider instead CMPD traffic stops but by CMPD division. These are more even spread by division than the type of stop.\n",
    "\n",
    "**Plot** a line chart for stops by `Date` but grouped by Division instead of reason"
   ]
  },
  {
   "cell_type": "code",
   "execution_count": null,
   "metadata": {},
   "outputs": [
    {
     "ename": "",
     "evalue": "",
     "output_type": "error",
     "traceback": [
      "\u001b[1;31mRunning cells with 'c:\\Users\\AhmadFouly\\AppData\\Local\\Microsoft\\WindowsApps\\python3.11.exe' requires the ipykernel package.\n",
      "\u001b[1;31mRun the following command to install 'ipykernel' into the Python environment. \n",
      "\u001b[1;31mCommand: 'c:/Users/AhmadFouly/AppData/Local/Microsoft/WindowsApps/python3.11.exe -m pip install ipykernel -U --user --force-reinstall'"
     ]
    }
   ],
   "source": [
    "# Facet plot for division stops\n",
    "stops_division = stops.groupby(['Month_of_Stop', 'CMPD_Division']).size().reset_index(name='count')\n",
    "\n",
    "division_lines = alt.Chart(stops_division).mark_line().encode(\n",
    "    x='Month_of_Stop',\n",
    "    y='count',\n",
    "    color='CMPD_Division',\n",
    "    tooltip=['Month_of_Stop', 'CMPD_Division']\n",
    "\n",
    ").facet(\n",
    "        column='CMPD_Division:N'\n",
    "    ).resolve_scale(\n",
    "    y='independent'\n",
    ")\n",
    "\n",
    "division_lines"
   ]
  },
  {
   "cell_type": "markdown",
   "metadata": {},
   "source": [
    "What are three observations you can make about the number of police stops by divison? (hint: just write about what's in the data.)\n",
    "\n",
    "1. The number of stops across all divisions dramitacally increased after October 1, 2016.\n",
    "\n",
    "2. After April 1, 2017 stops started to decrease across all divisions\n",
    "\n",
    "3. Most divisions have around 200 stops per month."
   ]
  }
 ],
 "metadata": {
  "kernelspec": {
   "display_name": "Python 3.8.13 ('streamlit_env')",
   "language": "python",
   "name": "python3"
  },
  "language_info": {
   "codemirror_mode": {
    "name": "ipython",
    "version": 3
   },
   "file_extension": ".py",
   "mimetype": "text/x-python",
   "name": "python",
   "nbconvert_exporter": "python",
   "pygments_lexer": "ipython3",
   "version": "3.11.6"
  },
  "orig_nbformat": 4,
  "vscode": {
   "interpreter": {
    "hash": "27ef454d43efc622c91ad69957169a3babd55091e91d4c832acb6e0ff1063b8e"
   }
  }
 },
 "nbformat": 4,
 "nbformat_minor": 2
}
